{
  "nbformat": 4,
  "nbformat_minor": 0,
  "metadata": {
    "kernelspec": {
      "display_name": "Python 3",
      "language": "python",
      "name": "python3"
    },
    "language_info": {
      "codemirror_mode": {
        "name": "ipython",
        "version": 3
      },
      "file_extension": ".py",
      "mimetype": "text/x-python",
      "name": "python",
      "nbconvert_exporter": "python",
      "pygments_lexer": "ipython3",
      "version": "3.7.3"
    },
    "colab": {
      "name": "Task_2_Rap_generator.ipynb",
      "provenance": [],
      "collapsed_sections": [],
      "toc_visible": true
    }
  },
  "cells": [
    {
      "cell_type": "markdown",
      "metadata": {
        "id": "ctWmp1ZqIbNa",
        "colab_type": "text"
      },
      "source": [
        "#### A final table with perplexity values for different models is provided below the application of different models.\n",
        "***\n",
        "#### At the end of the file there is an attempt to use Markov chain and links to sources, which were used in this work\n",
        "***\n",
        "#### Some examples of lyrics generation are provided (unfortunately, not for all LMs)"
      ]
    },
    {
      "cell_type": "code",
      "metadata": {
        "id": "2g5bvGNvI6tZ",
        "colab_type": "code",
        "colab": {}
      },
      "source": [
        "#import sys\n",
        "#!{sys.executable} -m pip install nltk==3.5b1\n",
        "#!{sys.executable} -m pip install lyricsgenius"
      ],
      "execution_count": 0,
      "outputs": []
    },
    {
      "cell_type": "code",
      "metadata": {
        "scrolled": true,
        "id": "j1I6-5fBIbNb",
        "colab_type": "code",
        "outputId": "3df9e5e1-2783-410e-dbf3-6183fbd630a5",
        "colab": {
          "base_uri": "https://localhost:8080/",
          "height": 108
        }
      },
      "source": [
        "import lyricsgenius\n",
        "import json\n",
        "import pandas as pd\n",
        "import nltk\n",
        "import seaborn as sns\n",
        "import numpy as np\n",
        "import matplotlib.pyplot as plt\n",
        "from collections import Counter\n",
        "from nltk.util import pad_sequence\n",
        "from nltk.util import bigrams\n",
        "from nltk.util import ngrams\n",
        "from nltk.util import everygrams\n",
        "from nltk.lm.preprocessing import pad_both_ends\n",
        "nltk.download('punkt')\n",
        "from nltk.lm.preprocessing import flatten\n",
        "from nltk.tokenize import word_tokenize\n",
        "from sklearn.model_selection import train_test_split\n",
        "from nltk.lm import KneserNeyInterpolated \n",
        "from nltk.lm import Laplace\n",
        "from nltk.lm import MLE\n",
        "from nltk.lm.preprocessing import padded_everygram_pipeline\n",
        "from nltk import word_tokenize, sent_tokenize \n",
        "import textwrap"
      ],
      "execution_count": 5,
      "outputs": [
        {
          "output_type": "stream",
          "text": [
            "/usr/local/lib/python3.6/dist-packages/statsmodels/tools/_testing.py:19: FutureWarning: pandas.util.testing is deprecated. Use the functions in the public API at pandas.testing instead.\n",
            "  import pandas.util.testing as tm\n",
            "[nltk_data] Downloading package punkt to /root/nltk_data...\n",
            "[nltk_data]   Unzipping tokenizers/punkt.zip.\n"
          ],
          "name": "stderr"
        }
      ]
    },
    {
      "cell_type": "markdown",
      "metadata": {
        "id": "3H4q4xlKIbNf",
        "colab_type": "text"
      },
      "source": [
        "#### The chunk below was commented after the work was done in order not to waste space on GitHub"
      ]
    },
    {
      "cell_type": "code",
      "metadata": {
        "scrolled": true,
        "id": "DxpbDqQEIbNf",
        "colab_type": "code",
        "colab": {}
      },
      "source": [
        "#Checking whether installed module works correctly, setting Eminem as the author\n",
        "genius = lyricsgenius.Genius(\"jHJB8vqrbfVDIGM1KrETFx6s7EG9SGN3RGcmr63z7Gjgz8dYY4LizTL9rGupTAl1\")\n",
        "#at first used to sort by title, but it brings remixes of same song, so let us sort by popularity \n",
        "#Eminem = genius.search_artist(\"Eminem\", max_songs=300, sort=\"popularity\")\n",
        "genius.remove_section_headers = True\n",
        "genius.skip_non_songs = False \n",
        "genius.verbose = False"
      ],
      "execution_count": 0,
      "outputs": []
    },
    {
      "cell_type": "markdown",
      "metadata": {
        "id": "EQNINerQrsrm",
        "colab_type": "text"
      },
      "source": [
        "#### At first I used only 300 Eminem's songs, and got pretty high perplexity. Then it was decided to expand the set in order to get better perplexity, so below I append  the lyrics of 50 Cent, since the Internet told me they are quite similar to Eminem's.\n",
        "\n"
      ]
    },
    {
      "cell_type": "code",
      "metadata": {
        "id": "24j5fO7NL-Nw",
        "colab_type": "code",
        "colab": {}
      },
      "source": [
        "#Downloading 50 Cent lyrics to extend the vocabulary\n",
        "genius = lyricsgenius.Genius(\"jHJB8vqrbfVDIGM1KrETFx6s7EG9SGN3RGcmr63z7Gjgz8dYY4LizTL9rGupTAl1\")\n",
        "#Cent_50 = genius.search_artist(\"50 Cent\", max_songs=200, sort=\"popularity\")\n",
        "genius.remove_section_headers = True\n",
        "genius.skip_non_songs = False \n",
        "genius.verbose = False"
      ],
      "execution_count": 0,
      "outputs": []
    },
    {
      "cell_type": "code",
      "metadata": {
        "id": "NE36c5tPIbNi",
        "colab_type": "code",
        "colab": {
          "base_uri": "https://localhost:8080/",
          "height": 52
        },
        "outputId": "8781c4b9-2bad-46aa-af96-a0d40e3cee7c"
      },
      "source": [
        "Eminem.save_lyrics(extension='txt')\n",
        "Cent_50.save_lyrics(extension='txt')"
      ],
      "execution_count": 28,
      "outputs": [
        {
          "output_type": "stream",
          "text": [
            "Wrote `Lyrics_Eminem.txt`\n",
            "Wrote `Lyrics_50Cent.txt`\n"
          ],
          "name": "stdout"
        }
      ]
    },
    {
      "cell_type": "code",
      "metadata": {
        "id": "DBn8tfmmIbNn",
        "colab_type": "code",
        "colab": {}
      },
      "source": [
        "#opening of files and tokenization\n",
        "#at first I intended to delete the punctuation, but then decided to leave it since rap lyrics will look more interesting with punctuation\n",
        "#however, maybe, it was a wrong decision\n",
        "lyrics_em = open(\"Lyrics_Eminem.txt\",\"r\")\n",
        "lyrics_cent = open(\"Lyrics_50Cent.txt\",\"r\")\n",
        "token_lyrics_em = [list(map(str.lower, word_tokenize(sent))) \n",
        "                  for sent in lyrics_em]\n",
        "token_lyrics_cent = [list(map(str.lower, word_tokenize(sent))) \n",
        "                  for sent in lyrics_cent]\n",
        "lyrics = []\n",
        "lyrics.extend(token_lyrics_em)\n",
        "lyrics.extend(token_lyrics_cent)                 "
      ],
      "execution_count": 0,
      "outputs": []
    },
    {
      "cell_type": "code",
      "metadata": {
        "id": "XYQT8DZTIbNt",
        "colab_type": "code",
        "outputId": "14416031-f49b-406a-b58c-c0997eb27d6a",
        "colab": {
          "base_uri": "https://localhost:8080/",
          "height": 315
        }
      },
      "source": [
        "flattened_list = []\n",
        "for x in lyrics:\n",
        "    for y in x:\n",
        "        flattened_list.append(y)\n",
        "stopwords=['intro', 'verse', 'chorus','!','\"', \"'\", '’', '#','$','%','&','(',')','*','+',',','-','/',':',';','<','=','>','?','@','[','\\\\',']',\n",
        " '^','_','`','{','|','}','~', '1', '...', \"'s\",\"'m\", \"n't\" ]\n",
        "for word in flattened_list:\n",
        "    if word in stopwords:\n",
        "        flattened_list.remove(word)\n",
        "word_count = Counter(flattened_list).most_common(20)\n",
        "word_count_df = pd.DataFrame(word_count, columns = ['word', 'count'])\n",
        "\n",
        "#creating a plot, depicting words distribution\n",
        "fig, (ax) = plt.subplots(figsize = (10, 4))\n",
        "sns.barplot(x = word_count_df['word'], y = word_count_df['count'], ax = ax)\n",
        "ax.set_ylabel('count', fontsize = 10)\n",
        "ax.set_xlabel('word',fontsize = 10)\n",
        "ax.tick_params(labelsize=10)\n",
        "ax.set_title('Top 20 word in Eminem rap lyrics', fontsize = 15)"
      ],
      "execution_count": 47,
      "outputs": [
        {
          "output_type": "execute_result",
          "data": {
            "text/plain": [
              "Text(0.5, 1.0, 'Top 20 word in Eminem rap lyrics')"
            ]
          },
          "metadata": {
            "tags": []
          },
          "execution_count": 47
        },
        {
          "output_type": "display_data",
          "data": {
            "image/png": "[encoded data removed]",
            "text/plain": [
              "<Figure size 720x288 with 1 Axes>"
            ]
          },
          "metadata": {
            "tags": [],
            "needs_background": "light"
          }
        }
      ]
    },
    {
      "cell_type": "markdown",
      "metadata": {
        "id": "gykVaTc_IbNw",
        "colab_type": "text"
      },
      "source": [
        "#### As we know, the bigger is testset, the better, therefore let's set the size of at least 40%"
      ]
    },
    {
      "cell_type": "code",
      "metadata": {
        "id": "u9AlvkhYIbNw",
        "colab_type": "code",
        "colab": {}
      },
      "source": [
        "train, test = train_test_split(lyrics, test_size=0.4, random_state=11)"
      ],
      "execution_count": 0,
      "outputs": []
    },
    {
      "cell_type": "markdown",
      "metadata": {
        "id": "IVKlwwOvb49e",
        "colab_type": "text"
      },
      "source": [
        "#### Since this version of my work is done in Google Colaboratory (which disconnects all the time) and each chunk with text generation takes about 2 hours to execute, the examples of text generation is be provided not for every type of ngrams and model"
      ]
    },
    {
      "cell_type": "markdown",
      "metadata": {
        "id": "0xCrrr2hIbN7",
        "colab_type": "text"
      },
      "source": [
        "### 1-grams"
      ]
    },
    {
      "cell_type": "code",
      "metadata": {
        "id": "OpC4pmUjIbN8",
        "colab_type": "code",
        "colab": {}
      },
      "source": [
        "n=1"
      ],
      "execution_count": 0,
      "outputs": []
    },
    {
      "cell_type": "markdown",
      "metadata": {
        "id": "EF4v5XqYIbN-",
        "colab_type": "text"
      },
      "source": [
        "#### Kneser-Ney Interpolated for unigrams, default value of discount = 0.1"
      ]
    },
    {
      "cell_type": "code",
      "metadata": {
        "id": "FtJcYiTMIbN-",
        "colab_type": "code",
        "colab": {}
      },
      "source": [
        "train_data_1_KN, padded_sents_1_KN = padded_everygram_pipeline(n, train)"
      ],
      "execution_count": 0,
      "outputs": []
    },
    {
      "cell_type": "code",
      "metadata": {
        "id": "Ho5mj0dfIbOA",
        "colab_type": "code",
        "colab": {}
      },
      "source": [
        "model_1_KN = KneserNeyInterpolated(n, discount=0.1)"
      ],
      "execution_count": 0,
      "outputs": []
    },
    {
      "cell_type": "code",
      "metadata": {
        "id": "tloONy_fIbOD",
        "colab_type": "code",
        "colab": {}
      },
      "source": [
        "model_1_KN.fit(train_data_1_KN, padded_sents_1_KN)"
      ],
      "execution_count": 0,
      "outputs": []
    },
    {
      "cell_type": "code",
      "metadata": {
        "id": "-uupOSvb-F_f",
        "colab_type": "code",
        "colab": {}
      },
      "source": [
        "test_data_uni,_ = padded_everygram_pipeline(n, test)\n",
        "test_uni = []\n",
        "for i in test_data_uni:\n",
        "  test_uni.extend(i)"
      ],
      "execution_count": 0,
      "outputs": []
    },
    {
      "cell_type": "code",
      "metadata": {
        "id": "rlyHk5K8IbOF",
        "colab_type": "code",
        "outputId": "fcabd9cf-48bc-4332-e211-fa551b93c364",
        "colab": {
          "base_uri": "https://localhost:8080/",
          "height": 35
        }
      },
      "source": [
        "Unigram_KN_PP_01 = model_1_KN.perplexity(test_uni)\n",
        "Unigram_KN_PP_01"
      ],
      "execution_count": 103,
      "outputs": [
        {
          "output_type": "execute_result",
          "data": {
            "text/plain": [
              "14245.000000168671"
            ]
          },
          "metadata": {
            "tags": []
          },
          "execution_count": 103
        }
      ]
    },
    {
      "cell_type": "markdown",
      "metadata": {
        "id": "T-nZyLT2IbOI",
        "colab_type": "text"
      },
      "source": [
        "#### Kneser-Ney Interpolated for unigrams, set value of discount = 0.9"
      ]
    },
    {
      "cell_type": "code",
      "metadata": {
        "id": "7hIuZpUvIbOI",
        "colab_type": "code",
        "colab": {}
      },
      "source": [
        "train_data_9_KN, padded_sents_9_KN = padded_everygram_pipeline(n, train)"
      ],
      "execution_count": 0,
      "outputs": []
    },
    {
      "cell_type": "code",
      "metadata": {
        "id": "SAZgtgnhIbOK",
        "colab_type": "code",
        "colab": {}
      },
      "source": [
        "model_1_KN_9 = KneserNeyInterpolated(n, discount=0.9)"
      ],
      "execution_count": 0,
      "outputs": []
    },
    {
      "cell_type": "code",
      "metadata": {
        "id": "U_SVV8SAIbOM",
        "colab_type": "code",
        "colab": {}
      },
      "source": [
        "model_1_KN_9.fit(train_data_9_KN, padded_sents_9_KN)"
      ],
      "execution_count": 0,
      "outputs": []
    },
    {
      "cell_type": "code",
      "metadata": {
        "id": "QvnAZquRIbOQ",
        "colab_type": "code",
        "outputId": "3a16fd25-5364-4481-d986-cfcc699d1344",
        "colab": {
          "base_uri": "https://localhost:8080/",
          "height": 35
        }
      },
      "source": [
        "Unigram_KN_PP_09 = model_1_KN_9.perplexity(test_uni)\n",
        "Unigram_KN_PP_09"
      ],
      "execution_count": 107,
      "outputs": [
        {
          "output_type": "execute_result",
          "data": {
            "text/plain": [
              "14245.000000168671"
            ]
          },
          "metadata": {
            "tags": []
          },
          "execution_count": 107
        }
      ]
    },
    {
      "cell_type": "code",
      "metadata": {
        "scrolled": true,
        "id": "BQ8wUUNuIbOS",
        "colab_type": "code",
        "outputId": "1342631b-2147-42aa-fdee-00d36cf1d7b4",
        "colab": {
          "base_uri": "https://localhost:8080/",
          "height": 35
        }
      },
      "source": [
        "print(model_1_KN_9.generate(10, random_seed=1))"
      ],
      "execution_count": 108,
      "outputs": [
        {
          "output_type": "stream",
          "text": [
            "['bulimic', 'stove', 'scrubs', 'dick—shit', 'lama', 'incompatible', 'philosophies', 'shrunk', 'betrayed', 'adderall']\n"
          ],
          "name": "stdout"
        }
      ]
    },
    {
      "cell_type": "code",
      "metadata": {
        "id": "SQ4Ho0mUIbOV",
        "colab_type": "code",
        "colab": {}
      },
      "source": [
        "#As we can see above, simple generation shows separate words, therefore, new function is included below\n",
        "#which is fully copypasted from https://www.kaggle.com/alvations/n-gram-language-model-with-nltk\n",
        "from nltk.tokenize.treebank import TreebankWordDetokenizer\n",
        "\n",
        "detokenize = TreebankWordDetokenizer().detokenize\n",
        "\n",
        "def generate_sent(model, num_words, random_seed=42):\n",
        "    content = []\n",
        "    for token in model.generate(num_words, random_seed=random_seed):\n",
        "        if token == '<s>':\n",
        "            continue\n",
        "        if token == '</s>':\n",
        "            break\n",
        "        content.append(token)\n",
        "    return detokenize(content)"
      ],
      "execution_count": 0,
      "outputs": []
    },
    {
      "cell_type": "code",
      "metadata": {
        "id": "JH2RwI-DIbOX",
        "colab_type": "code",
        "outputId": "be0dcd8c-3dcd-46b3-bcd8-4ed259e75300",
        "colab": {
          "base_uri": "https://localhost:8080/",
          "height": 70
        }
      },
      "source": [
        "for i in range(3):\n",
        "    print(generate_sent(model_1_KN_9, 10, random_seed=i))"
      ],
      "execution_count": 110,
      "outputs": [
        {
          "output_type": "stream",
          "text": [
            "stock scarlata hide-and-seek dip lightin handed- shooby-de-doo-wop entitled jukes murderin\n",
            "bulimic stove scrubs dick—shit lama incompatible philosophies shrunk betrayed adderall\n",
            "walked villian arrested beanies standpoint roast porcelain eternal nurse nwa\n"
          ],
          "name": "stdout"
        }
      ]
    },
    {
      "cell_type": "markdown",
      "metadata": {
        "id": "tpFz8GiJIbOa",
        "colab_type": "text"
      },
      "source": [
        "#### Laplace model for unigrams"
      ]
    },
    {
      "cell_type": "code",
      "metadata": {
        "id": "Su2DlUE2IbOa",
        "colab_type": "code",
        "colab": {}
      },
      "source": [
        "train_data_LA, padded_sents_LA = padded_everygram_pipeline(n, train)"
      ],
      "execution_count": 0,
      "outputs": []
    },
    {
      "cell_type": "code",
      "metadata": {
        "id": "7COZHkKZIbOd",
        "colab_type": "code",
        "colab": {}
      },
      "source": [
        "model_laplace = Laplace(n)"
      ],
      "execution_count": 0,
      "outputs": []
    },
    {
      "cell_type": "code",
      "metadata": {
        "id": "SdExj_aEIbOf",
        "colab_type": "code",
        "colab": {}
      },
      "source": [
        "model_laplace.fit(train_data_LA, padded_sents_LA)"
      ],
      "execution_count": 0,
      "outputs": []
    },
    {
      "cell_type": "code",
      "metadata": {
        "id": "RVdp3syaIbOk",
        "colab_type": "code",
        "colab": {
          "base_uri": "https://localhost:8080/",
          "height": 35
        },
        "outputId": "0bffdb39-b916-421e-eef4-c7e70dc1b780"
      },
      "source": [
        "Unigram_laplace_PP = model_laplace.perplexity(test_uni)\n",
        "Unigram_laplace_PP"
      ],
      "execution_count": 114,
      "outputs": [
        {
          "output_type": "execute_result",
          "data": {
            "text/plain": [
              "573.0987302488888"
            ]
          },
          "metadata": {
            "tags": []
          },
          "execution_count": 114
        }
      ]
    },
    {
      "cell_type": "code",
      "metadata": {
        "id": "CXFcVdQyIbOm",
        "colab_type": "code",
        "outputId": "5d38cac8-aa34-4a34-978d-903435f328ec",
        "colab": {
          "base_uri": "https://localhost:8080/",
          "height": 70
        }
      },
      "source": [
        "#Let's look at examples of text generation\n",
        "for i in range(3):\n",
        "    print(generate_sent(model_laplace, 10, random_seed=i))"
      ],
      "execution_count": 115,
      "outputs": [
        {
          "output_type": "stream",
          "text": [
            "them shit hair bitch into goin spit comb i man\n",
            "- there shuck better idea how nigga stayin, 'em\n",
            "wrapped with's, the round of cool mink mistake\n"
          ],
          "name": "stdout"
        }
      ]
    },
    {
      "cell_type": "markdown",
      "metadata": {
        "id": "n1bRLcETIbOp",
        "colab_type": "text"
      },
      "source": [
        "#### MLE for unigrams"
      ]
    },
    {
      "cell_type": "code",
      "metadata": {
        "id": "2ViiLPNHIbOp",
        "colab_type": "code",
        "colab": {}
      },
      "source": [
        "train_data_MLE, padded_sents_MLE = padded_everygram_pipeline(n, train)"
      ],
      "execution_count": 0,
      "outputs": []
    },
    {
      "cell_type": "code",
      "metadata": {
        "id": "Lam9hW_UIbOr",
        "colab_type": "code",
        "colab": {}
      },
      "source": [
        "model_MLE = MLE(n)"
      ],
      "execution_count": 0,
      "outputs": []
    },
    {
      "cell_type": "code",
      "metadata": {
        "id": "kXYnefcaIbOt",
        "colab_type": "code",
        "colab": {}
      },
      "source": [
        "model_MLE.fit(train_data_MLE, padded_sents_MLE)"
      ],
      "execution_count": 0,
      "outputs": []
    },
    {
      "cell_type": "code",
      "metadata": {
        "id": "a0VnpCldIbOy",
        "colab_type": "code",
        "colab": {
          "base_uri": "https://localhost:8080/",
          "height": 35
        },
        "outputId": "e9ac305d-b60b-4262-b25a-bd1f283b4663"
      },
      "source": [
        "#Unfortunately, it is infinite because of unknowkn n-grams in test set\n",
        "Unigram_mle_PP = model_MLE.perplexity(test_uni)\n",
        "Unigram_mle_PP"
      ],
      "execution_count": 38,
      "outputs": [
        {
          "output_type": "execute_result",
          "data": {
            "text/plain": [
              "inf"
            ]
          },
          "metadata": {
            "tags": []
          },
          "execution_count": 38
        }
      ]
    },
    {
      "cell_type": "code",
      "metadata": {
        "id": "Vnj-wHEdIbO0",
        "colab_type": "code",
        "outputId": "81190904-3705-4797-88c1-7a04ba50fd2e",
        "colab": {
          "base_uri": "https://localhost:8080/",
          "height": 70
        }
      },
      "source": [
        "#Let's look at examples of text generation\n",
        "for i in range(3):\n",
        "    print(generate_sent(model_MLE, 10, random_seed=i))"
      ],
      "execution_count": 120,
      "outputs": [
        {
          "output_type": "stream",
          "text": [
            "there shit had beef in go stand chorus i make\n",
            ", they simple be i hour nigga stomping, 'd\n",
            "y'all with's, the rrarrrrh of cock mic migraines\n"
          ],
          "name": "stdout"
        }
      ]
    },
    {
      "cell_type": "markdown",
      "metadata": {
        "id": "XmglC6L6IbO2",
        "colab_type": "text"
      },
      "source": [
        "### 2-grams"
      ]
    },
    {
      "cell_type": "code",
      "metadata": {
        "id": "pNCOMOGZIbO3",
        "colab_type": "code",
        "colab": {}
      },
      "source": [
        "m=2"
      ],
      "execution_count": 0,
      "outputs": []
    },
    {
      "cell_type": "code",
      "metadata": {
        "id": "lNKukEUzcPNM",
        "colab_type": "code",
        "colab": {}
      },
      "source": [
        "test_data_bi,_ = padded_everygram_pipeline(2, test)\n",
        "test_bi = []\n",
        "for i in test_data_bi:\n",
        "  test_bi.extend(i)"
      ],
      "execution_count": 0,
      "outputs": []
    },
    {
      "cell_type": "markdown",
      "metadata": {
        "id": "oEy69p7yIbO5",
        "colab_type": "text"
      },
      "source": [
        "#### Kneser-Ney Interpolated for bigrams, default value of discount = 0.1"
      ]
    },
    {
      "cell_type": "markdown",
      "metadata": {
        "id": "_u1h_Q_pjqEu",
        "colab_type": "text"
      },
      "source": [
        "As our previous experience shows us, setting different discounts has no effect, so we will look only at default value of d=0.1"
      ]
    },
    {
      "cell_type": "code",
      "metadata": {
        "id": "BtMURe0EIbO5",
        "colab_type": "code",
        "colab": {}
      },
      "source": [
        "train_data_1_KN_2, padded_sents_1_KN_2 = padded_everygram_pipeline(m, train)"
      ],
      "execution_count": 0,
      "outputs": []
    },
    {
      "cell_type": "code",
      "metadata": {
        "id": "G9MWPFOmIbO8",
        "colab_type": "code",
        "colab": {}
      },
      "source": [
        "model_2_KN = KneserNeyInterpolated(m, discount=0.1)"
      ],
      "execution_count": 0,
      "outputs": []
    },
    {
      "cell_type": "code",
      "metadata": {
        "id": "W9vHGjUjIbO-",
        "colab_type": "code",
        "colab": {}
      },
      "source": [
        "model_2_KN.fit(train_data_1_KN_2, padded_sents_1_KN_2)"
      ],
      "execution_count": 0,
      "outputs": []
    },
    {
      "cell_type": "code",
      "metadata": {
        "id": "yy1E6Y0OIbPA",
        "colab_type": "code",
        "outputId": "295fadbf-b3d0-4b85-f343-3eb13122d15b",
        "colab": {
          "base_uri": "https://localhost:8080/",
          "height": 35
        }
      },
      "source": [
        "Bigram_KN_PP_01 = model_2_KN.perplexity(test_bi)\n",
        "Bigram_KN_PP_01"
      ],
      "execution_count": 44,
      "outputs": [
        {
          "output_type": "execute_result",
          "data": {
            "text/plain": [
              "1931.916190986568"
            ]
          },
          "metadata": {
            "tags": []
          },
          "execution_count": 44
        }
      ]
    },
    {
      "cell_type": "markdown",
      "metadata": {
        "id": "Eew9CN16IbPW",
        "colab_type": "text"
      },
      "source": [
        "#### Laplace model for bigrams"
      ]
    },
    {
      "cell_type": "code",
      "metadata": {
        "id": "VGobqWPxIbPW",
        "colab_type": "code",
        "colab": {}
      },
      "source": [
        "train_data_LA_2, padded_sents_LA_2 = padded_everygram_pipeline(m, train)"
      ],
      "execution_count": 0,
      "outputs": []
    },
    {
      "cell_type": "code",
      "metadata": {
        "id": "E4jHooeNIbPY",
        "colab_type": "code",
        "colab": {}
      },
      "source": [
        "model_laplace_2 = Laplace(m)"
      ],
      "execution_count": 0,
      "outputs": []
    },
    {
      "cell_type": "code",
      "metadata": {
        "id": "s4YkLECAIbPa",
        "colab_type": "code",
        "colab": {}
      },
      "source": [
        "model_laplace_2.fit(train_data_LA_2, padded_sents_LA_2)"
      ],
      "execution_count": 0,
      "outputs": []
    },
    {
      "cell_type": "code",
      "metadata": {
        "id": "lbTcFD4nIbPh",
        "colab_type": "code",
        "colab": {
          "base_uri": "https://localhost:8080/",
          "height": 35
        },
        "outputId": "b2d2f638-7ed1-4048-e165-2ebd8e082e10"
      },
      "source": [
        "Bigram_laplace_PP = model_laplace_2.perplexity(test_bi)\n",
        "Bigram_laplace_PP"
      ],
      "execution_count": 49,
      "outputs": [
        {
          "output_type": "execute_result",
          "data": {
            "text/plain": [
              "571.0400319718012"
            ]
          },
          "metadata": {
            "tags": []
          },
          "execution_count": 49
        }
      ]
    },
    {
      "cell_type": "code",
      "metadata": {
        "id": "alGjpr_sIbPm",
        "colab_type": "code",
        "outputId": "2fe306bc-fd23-4764-b69b-36a0d28c0d1a",
        "colab": {
          "base_uri": "https://localhost:8080/",
          "height": 88
        }
      },
      "source": [
        "#Let's look at examples of text generation\n",
        "for i in [5,6,7,8]:\n",
        "    print(generate_sent(model_laplace_2, 10, random_seed=i))"
      ],
      "execution_count": 54,
      "outputs": [
        {
          "output_type": "stream",
          "text": [
            "know what we want to too )\n",
            "shady murdered my exhaust\n",
            "actin' off, look at\n",
            "you, secret, freeze your caps and it\n"
          ],
          "name": "stdout"
        }
      ]
    },
    {
      "cell_type": "markdown",
      "metadata": {
        "id": "iMsmpeaDIbPo",
        "colab_type": "text"
      },
      "source": [
        "#### MLE for bigrams"
      ]
    },
    {
      "cell_type": "code",
      "metadata": {
        "id": "MFRewlSsIbPo",
        "colab_type": "code",
        "colab": {}
      },
      "source": [
        "train_data_MLE_2, padded_sents_MLE_2 = padded_everygram_pipeline(m, train)"
      ],
      "execution_count": 0,
      "outputs": []
    },
    {
      "cell_type": "code",
      "metadata": {
        "id": "FU9zWrGKIbPr",
        "colab_type": "code",
        "colab": {}
      },
      "source": [
        "model_MLE_2 = MLE(m)"
      ],
      "execution_count": 0,
      "outputs": []
    },
    {
      "cell_type": "code",
      "metadata": {
        "id": "lp2j3gIWIbPs",
        "colab_type": "code",
        "colab": {}
      },
      "source": [
        "model_MLE_2.fit(train_data_MLE_2, padded_sents_MLE_2)"
      ],
      "execution_count": 0,
      "outputs": []
    },
    {
      "cell_type": "code",
      "metadata": {
        "id": "vnhZBoy1IbPw",
        "colab_type": "code",
        "colab": {
          "base_uri": "https://localhost:8080/",
          "height": 35
        },
        "outputId": "1bb85e8c-d9e5-4d37-ec5e-c746298f708f"
      },
      "source": [
        "Bigram_mle_PP=model_MLE_2.perplexity(test_bi)\n",
        "Bigram_mle_PP"
      ],
      "execution_count": 58,
      "outputs": [
        {
          "output_type": "execute_result",
          "data": {
            "text/plain": [
              "inf"
            ]
          },
          "metadata": {
            "tags": []
          },
          "execution_count": 58
        }
      ]
    },
    {
      "cell_type": "code",
      "metadata": {
        "id": "4y-_vX3RIbPy",
        "colab_type": "code",
        "outputId": "d73a56da-8f63-4a4e-8f8f-df6ac3d10ff5",
        "colab": {
          "base_uri": "https://localhost:8080/",
          "height": 70
        }
      },
      "source": [
        "#Let's look at examples of text generation via MLE for bigrams\n",
        "for i in [8,10,11]:\n",
        "    print(generate_sent(model_MLE_2, 10, random_seed=i))"
      ],
      "execution_count": 64,
      "outputs": [
        {
          "output_type": "stream",
          "text": [
            "you, shady's constant controversy\n",
            "i can look\n",
            "don't wannahold the corny shit for the\n"
          ],
          "name": "stdout"
        }
      ]
    },
    {
      "cell_type": "markdown",
      "metadata": {
        "id": "GCnetAgTIbP0",
        "colab_type": "text"
      },
      "source": [
        "### 3-grams"
      ]
    },
    {
      "cell_type": "code",
      "metadata": {
        "id": "hq0AnBpmIbP0",
        "colab_type": "code",
        "colab": {}
      },
      "source": [
        "t=3"
      ],
      "execution_count": 0,
      "outputs": []
    },
    {
      "cell_type": "code",
      "metadata": {
        "id": "i5hj_3yrjXow",
        "colab_type": "code",
        "colab": {}
      },
      "source": [
        "test_data_tri,_ = padded_everygram_pipeline(3, test)\n",
        "test_tri = []\n",
        "for i in test_data_tri:\n",
        "  test_tri.extend(i)"
      ],
      "execution_count": 0,
      "outputs": []
    },
    {
      "cell_type": "markdown",
      "metadata": {
        "id": "XpnKnkyZIbP2",
        "colab_type": "text"
      },
      "source": [
        "#### Kneser-Ney Interpolated for trigrams, default value of discount = 0.1"
      ]
    },
    {
      "cell_type": "code",
      "metadata": {
        "id": "l4xhuCh8IbP2",
        "colab_type": "code",
        "colab": {}
      },
      "source": [
        "train_data_1_KN_3, padded_sents_1_KN_3 = padded_everygram_pipeline(t, train)"
      ],
      "execution_count": 0,
      "outputs": []
    },
    {
      "cell_type": "code",
      "metadata": {
        "id": "mMtgT3ZnIbP4",
        "colab_type": "code",
        "colab": {}
      },
      "source": [
        "model_3_KN = KneserNeyInterpolated(t, discount=0.1)"
      ],
      "execution_count": 0,
      "outputs": []
    },
    {
      "cell_type": "code",
      "metadata": {
        "id": "Hm_Ipw8pIbP5",
        "colab_type": "code",
        "colab": {}
      },
      "source": [
        "model_3_KN.fit(train_data_1_KN_3, padded_sents_1_KN_3)"
      ],
      "execution_count": 0,
      "outputs": []
    },
    {
      "cell_type": "code",
      "metadata": {
        "id": "O8UCFVj_IbP7",
        "colab_type": "code",
        "colab": {
          "base_uri": "https://localhost:8080/",
          "height": 35
        },
        "outputId": "891bcf27-756b-4534-d5e5-66724453a100"
      },
      "source": [
        "Trigram_KN_PP = model_3_KN.perplexity(test_tri)\n",
        "Trigram_KN_PP"
      ],
      "execution_count": 70,
      "outputs": [
        {
          "output_type": "execute_result",
          "data": {
            "text/plain": [
              "694.172686122184"
            ]
          },
          "metadata": {
            "tags": []
          },
          "execution_count": 70
        },
        {
          "output_type": "execute_result",
          "data": {
            "text/plain": [
              "694.172686122184"
            ]
          },
          "metadata": {
            "tags": []
          },
          "execution_count": 70
        }
      ]
    },
    {
      "cell_type": "markdown",
      "metadata": {
        "id": "S_rMiU-WIbP-",
        "colab_type": "text"
      },
      "source": [
        "#### Laplace model for trigrams"
      ]
    },
    {
      "cell_type": "code",
      "metadata": {
        "id": "uTw09kccIbP-",
        "colab_type": "code",
        "colab": {}
      },
      "source": [
        "train_data_LA_3, padded_sents_LA_3 = padded_everygram_pipeline(t, train)"
      ],
      "execution_count": 0,
      "outputs": []
    },
    {
      "cell_type": "code",
      "metadata": {
        "id": "iVhW6brfIbQA",
        "colab_type": "code",
        "colab": {}
      },
      "source": [
        "model_laplace_3 = Laplace(t)"
      ],
      "execution_count": 0,
      "outputs": []
    },
    {
      "cell_type": "code",
      "metadata": {
        "id": "00j35kXgIbQD",
        "colab_type": "code",
        "colab": {}
      },
      "source": [
        "model_laplace_3.fit(train_data_LA_3, padded_sents_LA_3)"
      ],
      "execution_count": 0,
      "outputs": []
    },
    {
      "cell_type": "code",
      "metadata": {
        "id": "mIWmTeK2IbQI",
        "colab_type": "code",
        "colab": {
          "base_uri": "https://localhost:8080/",
          "height": 35
        },
        "outputId": "b21a5e42-aa0e-4c6e-e603-e6a7574d4e8f"
      },
      "source": [
        "Trigram_laplace_PP = model_laplace_3.perplexity(test_tri)\n",
        "Trigram_laplace_PP"
      ],
      "execution_count": 74,
      "outputs": [
        {
          "output_type": "execute_result",
          "data": {
            "text/plain": [
              "560.8963894791663"
            ]
          },
          "metadata": {
            "tags": []
          },
          "execution_count": 74
        }
      ]
    },
    {
      "cell_type": "markdown",
      "metadata": {
        "id": "Kd_Q3d7CIbQL",
        "colab_type": "text"
      },
      "source": [
        "#### MLE for trigrams"
      ]
    },
    {
      "cell_type": "code",
      "metadata": {
        "id": "IO4CHhh7IbQL",
        "colab_type": "code",
        "colab": {}
      },
      "source": [
        "train_data_MLE_3, padded_sents_MLE_3 = padded_everygram_pipeline(t, train)"
      ],
      "execution_count": 0,
      "outputs": []
    },
    {
      "cell_type": "code",
      "metadata": {
        "id": "p2L-h_WyIbQM",
        "colab_type": "code",
        "colab": {}
      },
      "source": [
        "model_MLE_3 = MLE(t)"
      ],
      "execution_count": 0,
      "outputs": []
    },
    {
      "cell_type": "code",
      "metadata": {
        "id": "mi2XVBRhIbQN",
        "colab_type": "code",
        "colab": {}
      },
      "source": [
        "model_MLE_3.fit(train_data_MLE_3, padded_sents_MLE_3)"
      ],
      "execution_count": 0,
      "outputs": []
    },
    {
      "cell_type": "code",
      "metadata": {
        "id": "qs1FRsMtIbQQ",
        "colab_type": "code",
        "colab": {
          "base_uri": "https://localhost:8080/",
          "height": 35
        },
        "outputId": "42b68059-da17-46de-a723-3ba96c0ecc3f"
      },
      "source": [
        "Trigram_mle_PP = model_MLE_3.perplexity(test_tri)\n",
        "Trigram_mle_PP"
      ],
      "execution_count": 78,
      "outputs": [
        {
          "output_type": "execute_result",
          "data": {
            "text/plain": [
              "inf"
            ]
          },
          "metadata": {
            "tags": []
          },
          "execution_count": 78
        }
      ]
    },
    {
      "cell_type": "code",
      "metadata": {
        "id": "Qrn3L-FGIbQR",
        "colab_type": "code",
        "outputId": "ed719f6d-d395-4748-dd9c-7463d3fab917",
        "colab": {
          "base_uri": "https://localhost:8080/",
          "height": 70
        }
      },
      "source": [
        "#Let's look at examples of text generation via MLE for trigrams\n",
        "for i in [34,5,18]:\n",
        "    print(generate_sent(model_MLE_3, 10, random_seed=i))"
      ],
      "execution_count": 79,
      "outputs": [
        {
          "output_type": "stream",
          "text": [
            "don't wannasmoke but ain't gon '\n",
            "i may have never made recovery, kid rock and\n",
            "\n"
          ],
          "name": "stdout"
        }
      ]
    },
    {
      "cell_type": "markdown",
      "metadata": {
        "id": "SYrkMOTBIbQT",
        "colab_type": "text"
      },
      "source": [
        "#### Creating a table with results for each of n-grams (I write values manually because Google Colaboratory disconnects all the time, and previously determined variable become invalid (and perplexity take minimum 1h to be counted). So I just fill in manually the tables with values that you have seen before"
      ]
    },
    {
      "cell_type": "code",
      "metadata": {
        "id": "D06SaXyeIbQU",
        "colab_type": "code",
        "outputId": "a0e4ac29-e69e-429f-d6d5-5adbc99343f7",
        "colab": {
          "base_uri": "https://localhost:8080/",
          "height": 109
        }
      },
      "source": [
        "compare = {'N-grams':['1-gram', '2-gram', '3-gram'],\n",
        "        'Kneser-Ney PP': ['14245','1932','694'],\n",
        "        'Laplace PP': ['573','571','561'],\n",
        "        'MLE PP': ['inf','inf', 'inf'] }\n",
        "models = pd.DataFrame(compare, columns = ['N-grams', 'Kneser-Ney PP', 'Laplace PP', 'MLE PP'])\n",
        "models_perplexity = models.style.set_table_styles([{'selector':'','props':[('border','4px solid #7a7'), ('font-family', 'verdana'),('font-family', 'verdana'), ('font-size', '105%')]}])\n",
        "models_perplexity"
      ],
      "execution_count": 80,
      "outputs": [
        {
          "output_type": "execute_result",
          "data": {
            "text/html": [
              "<style  type=\"text/css\" >\n",
              "    #T_078c2b1e_7c74_11ea_a9f6_0242ac1c0002  {\n",
              "          border: 4px solid #7a7;\n",
              "          font-family: verdana;\n",
              "          font-family: verdana;\n",
              "          font-size: 105%;\n",
              "    }</style><table id=\"T_078c2b1e_7c74_11ea_a9f6_0242ac1c0002\" ><thead>    <tr>        <th class=\"blank level0\" ></th>        <th class=\"col_heading level0 col0\" >N-grams</th>        <th class=\"col_heading level0 col1\" >Kneser-Ney PP</th>        <th class=\"col_heading level0 col2\" >Laplace PP</th>        <th class=\"col_heading level0 col3\" >MLE PP</th>    </tr></thead><tbody>\n",
              "                <tr>\n",
              "                        <th id=\"T_078c2b1e_7c74_11ea_a9f6_0242ac1c0002level0_row0\" class=\"row_heading level0 row0\" >0</th>\n",
              "                        <td id=\"T_078c2b1e_7c74_11ea_a9f6_0242ac1c0002row0_col0\" class=\"data row0 col0\" >1-gram</td>\n",
              "                        <td id=\"T_078c2b1e_7c74_11ea_a9f6_0242ac1c0002row0_col1\" class=\"data row0 col1\" >14245</td>\n",
              "                        <td id=\"T_078c2b1e_7c74_11ea_a9f6_0242ac1c0002row0_col2\" class=\"data row0 col2\" >573</td>\n",
              "                        <td id=\"T_078c2b1e_7c74_11ea_a9f6_0242ac1c0002row0_col3\" class=\"data row0 col3\" >inf</td>\n",
              "            </tr>\n",
              "            <tr>\n",
              "                        <th id=\"T_078c2b1e_7c74_11ea_a9f6_0242ac1c0002level0_row1\" class=\"row_heading level0 row1\" >1</th>\n",
              "                        <td id=\"T_078c2b1e_7c74_11ea_a9f6_0242ac1c0002row1_col0\" class=\"data row1 col0\" >2-gram</td>\n",
              "                        <td id=\"T_078c2b1e_7c74_11ea_a9f6_0242ac1c0002row1_col1\" class=\"data row1 col1\" >1932</td>\n",
              "                        <td id=\"T_078c2b1e_7c74_11ea_a9f6_0242ac1c0002row1_col2\" class=\"data row1 col2\" >571</td>\n",
              "                        <td id=\"T_078c2b1e_7c74_11ea_a9f6_0242ac1c0002row1_col3\" class=\"data row1 col3\" >inf</td>\n",
              "            </tr>\n",
              "            <tr>\n",
              "                        <th id=\"T_078c2b1e_7c74_11ea_a9f6_0242ac1c0002level0_row2\" class=\"row_heading level0 row2\" >2</th>\n",
              "                        <td id=\"T_078c2b1e_7c74_11ea_a9f6_0242ac1c0002row2_col0\" class=\"data row2 col0\" >3-gram</td>\n",
              "                        <td id=\"T_078c2b1e_7c74_11ea_a9f6_0242ac1c0002row2_col1\" class=\"data row2 col1\" >694</td>\n",
              "                        <td id=\"T_078c2b1e_7c74_11ea_a9f6_0242ac1c0002row2_col2\" class=\"data row2 col2\" >561</td>\n",
              "                        <td id=\"T_078c2b1e_7c74_11ea_a9f6_0242ac1c0002row2_col3\" class=\"data row2 col3\" >inf</td>\n",
              "            </tr>\n",
              "    </tbody></table>"
            ],
            "text/plain": [
              "<pandas.io.formats.style.Styler at 0x7f8b61788a90>"
            ]
          },
          "metadata": {
            "tags": []
          },
          "execution_count": 80
        }
      ]
    },
    {
      "cell_type": "markdown",
      "metadata": {
        "id": "w3bRqyVxIbQV",
        "colab_type": "text"
      },
      "source": [
        "#### <span style=\"color:green\">*Conclusion*</span>: In this version of my work lyrics were devided by sentences, and tokenization was executed in the other manner. However, the models were the same, their quality is much better! Maybe if I used more songs, they would be even better, and perplexity would be lower. Still tuning of discount value for Kneser-Ney had no effect on perplexity, all models showed different values of perplexity, which was decreasing while n for ngrams was increasing. Laplace LM showed better results, but we can see how perplexity values for Laplace and Kneser-Ney models become closer with increasing of n (and also we know that Laplace is not perfect for human-like texts). Generated texts leave much to be desired, though. Unfortunately, I had no opportunity to generate rap for every LM because of my computer's limitations. Despite it took all my night before the deadline, getting lower perplexity values was worth it. Yo!"
      ]
    },
    {
      "cell_type": "markdown",
      "metadata": {
        "id": "xQcY_Q0bIbQV",
        "colab_type": "text"
      },
      "source": [
        "***"
      ]
    },
    {
      "cell_type": "markdown",
      "metadata": {
        "id": "3SHGiDjoIbQX",
        "colab_type": "text"
      },
      "source": [
        "### Below there is an attempt to use principle of Markov chains for lyrics generation"
      ]
    },
    {
      "cell_type": "code",
      "metadata": {
        "id": "3dflyJepIbQX",
        "colab_type": "code",
        "colab": {}
      },
      "source": [
        "tokenized_text = lyricsdf['lyr_token'].tolist()\n",
        "flattened_lyr = []\n",
        "for x in tokenized_text:\n",
        "    for y in x:\n",
        "        flattened_lyr.append(y)\n",
        "\n",
        "def make_bigrams(text):\n",
        "    for i in range(len(text)-1):\n",
        "        yield (text[i], text[i+1])\n",
        "        \n",
        "bigrams = make_bigrams(flattened_lyr)"
      ],
      "execution_count": 0,
      "outputs": []
    },
    {
      "cell_type": "code",
      "metadata": {
        "id": "Wm6t-gkGIbQY",
        "colab_type": "code",
        "colab": {}
      },
      "source": [
        "word_dict = {}\n",
        "\n",
        "for word_1, word_2 in bigrams:\n",
        "    if word_1 in word_dict.keys():\n",
        "        word_dict[word_1].append(word_2)\n",
        "    else:\n",
        "        word_dict[word_1] = [word_2]\n",
        "        \n",
        "first_word = np.random.choice(flattened_lyr)"
      ],
      "execution_count": 0,
      "outputs": []
    },
    {
      "cell_type": "code",
      "metadata": {
        "id": "3njviBRJIbQZ",
        "colab_type": "code",
        "outputId": "add8feec-f76a-4ba1-d8fd-1e5a8a828c46",
        "colab": {}
      },
      "source": [
        "while first_word.islower():\n",
        "    first_word = np.random.choice(flattened_lyr)\n",
        "\n",
        "chain = [first_word]\n",
        "n_words = 100\n",
        "\n",
        "for i in range(n_words):\n",
        "    chain.append(np.random.choice(word_dict[chain[-1]]))\n",
        "\n",
        "generated_text = ' '.join(chain)\n",
        "rap = textwrap.fill(generated_text, width=50)\n",
        " \n",
        "print(rap)"
      ],
      "execution_count": 0,
      "outputs": [
        {
          "output_type": "stream",
          "text": [
            "2 met this fucking chick is to hurt you cave in\n",
            "the pot make us together everything is on riding\n",
            "on it trying to run deep as i had them some twins\n",
            "before they say that i need somethin to outrun me\n",
            "to toe from amityville hell stab in the panelin\n",
            "cussin no paper i know where must go to think of\n",
            "evil as i apologize if i have no help propel me\n",
            "only women skinning your mom your verdict while i\n",
            "get to dust and did you pissed me and if ten\n",
            "freaky girls man ya sweeter than an mc\n"
          ],
          "name": "stdout"
        }
      ]
    },
    {
      "cell_type": "markdown",
      "metadata": {
        "id": "31UMqGYtIbQb",
        "colab_type": "text"
      },
      "source": [
        "#### Unfortunately, I have no clue how to evaluate the quality of text generation, provided by this method. As far as I can judge, lyrics are not that bad, since there are many pairs and triples of words commonly used together, and some lines even make sense."
      ]
    },
    {
      "cell_type": "markdown",
      "metadata": {
        "id": "2YfOp52rIbQb",
        "colab_type": "text"
      },
      "source": [
        "***"
      ]
    },
    {
      "cell_type": "markdown",
      "metadata": {
        "id": "cQ7Cbs3GIbQg",
        "colab_type": "text"
      },
      "source": [
        "Heavily based on:\n",
        "    https://www.kaggle.com/alvations/n-gram-language-model-with-nltk and https://towardsdatascience.com/simulating-text-with-markov-chains-in-python-1a27e6d13fc6"
      ]
    }
  ]
}