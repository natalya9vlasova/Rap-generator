{
 "cells": [
  {
   "cell_type": "markdown",
   "metadata": {},
   "source": [
    "#### After each model for different n-grams there is an example of generated text. Unfortunately, all examples leave much to be desired\n",
    "***\n",
    "#### A final table with perplexity values for different models is provided below the application of different models.\n",
    "***\n",
    "#### At the end of the file there is an attempt to use Markov chain and links to sources, which were used in this work"
   ]
  },
  {
   "cell_type": "code",
   "execution_count": 528,
   "metadata": {
    "scrolled": true
   },
   "outputs": [
    {
     "name": "stderr",
     "output_type": "stream",
     "text": [
      "[nltk_data] Downloading package punkt to\n",
      "[nltk_data]     C:\\Users\\Forest_Gump\\AppData\\Roaming\\nltk_data...\n",
      "[nltk_data]   Package punkt is already up-to-date!\n"
     ]
    }
   ],
   "source": [
    "import lyricsgenius\n",
    "import json\n",
    "import pandas as pd\n",
    "import nltk\n",
    "import seaborn as sns\n",
    "import numpy as np\n",
    "import matplotlib.pyplot as plt\n",
    "from collections import Counter\n",
    "from nltk.util import pad_sequence\n",
    "from nltk.util import bigrams\n",
    "from nltk.util import ngrams\n",
    "from nltk.util import everygrams\n",
    "from nltk.lm.preprocessing import pad_both_ends\n",
    "nltk.download('punkt')\n",
    "from nltk.lm.preprocessing import flatten\n",
    "from nltk.tokenize import word_tokenize\n",
    "from sklearn.model_selection import train_test_split\n",
    "from nltk.lm import KneserNeyInterpolated \n",
    "from nltk.lm import Laplace\n",
    "from nltk.lm import MLE\n",
    "from nltk.lm.preprocessing import padded_everygram_pipeline\n",
    "from nltk import word_tokenize, sent_tokenize \n",
    "import textwrap"
   ]
  },
  {
   "cell_type": "markdown",
   "metadata": {},
   "source": [
    "#### The chunk below was commented after the work was done in order not to waste space on GitHub"
   ]
  },
  {
   "cell_type": "code",
   "execution_count": 401,
   "metadata": {
    "scrolled": true
   },
   "outputs": [],
   "source": [
    "#Checking whether installed module works correctly, setting Eminem as the author\n",
    "genius = lyricsgenius.Genius(\"jHJB8vqrbfVDIGM1KrETFx6s7EG9SGN3RGcmr63z7Gjgz8dYY4LizTL9rGupTAl1\")\n",
    "#at first used to sort by title, but it brings remixes of same song, so let us sort by popularity \n",
    "#artist = genius.search_artist(\"Eminem\", max_songs=400, sort=\"popularity\")\n",
    "#genius.remove_section_headers = True\n",
    "#genius.verbose = False\n",
    "#artist.save_lyrics()"
   ]
  },
  {
   "cell_type": "code",
   "execution_count": 90,
   "metadata": {},
   "outputs": [
    {
     "name": "stdout",
     "output_type": "stream",
     "text": [
      "dict_keys(['alternate_names', 'api_path', 'description', 'facebook_name', 'followers_count', 'header_image_url', 'id', 'image_url', 'instagram_name', 'is_meme_verified', 'is_verified', 'name', 'translation_artist', 'twitter_name', 'url', 'current_user_metadata', 'iq', 'description_annotation', 'user', 'songs'])\n"
     ]
    }
   ],
   "source": [
    "#open the file and have a look at keys\n",
    "lyrics = 'Lyrics_Eminem.json'\n",
    "with open(lyrics) as eminem_lyrics:\n",
    "    messyvocab = json.load(eminem_lyrics)\n",
    "dict_keys = messyvocab.keys()\n",
    "print(dict_keys)"
   ]
  },
  {
   "cell_type": "code",
   "execution_count": 453,
   "metadata": {
    "scrolled": true
   },
   "outputs": [],
   "source": [
    "#extracting songs' lyrics and form a vocabulary\n",
    "vocab = messyvocab.get('songs')\n",
    "lyrics_vocab = []\n",
    "for i in range(0,len(vocab)):\n",
    "    index = vocab[i]\n",
    "    song = index.get('lyrics')\n",
    "    lyrics_vocab.append(song)\n",
    "lyricsdf = pd.DataFrame(lyrics_vocab, columns=['Song lyrics'])\n",
    "lyricsdf = lyricsdf.dropna()\n",
    "#clear the punctuation\n",
    "for i in range(0,len(lyricsdf)):\n",
    "    stringlyric = lyricsdf.iloc[i,0]\n",
    "    for x in ['intro', 'verse', 'chorus','!','\"', \"'\", '’', '#','$','%','&','(',')','*','+',',','-','/',':',';','<','=','>','?','@','[','\\\\',']',\n",
    " '^','_','`','{','|','}','~', '1', '...']:   \n",
    "        stringlyric = stringlyric.replace(x, '')\n",
    "        lyricsdf.iloc[i,0] = stringlyric\n",
    "#lowercasing and tokenization \n",
    "lyricsdf['Song lyrics'] = lyricsdf['Song lyrics'].str.lower()\n",
    "lyricsdf['lyr_token'] = lyricsdf.apply(lambda row: nltk.word_tokenize(row['Song lyrics']), axis=1)\n",
    "#forming a list with tokenized lyrics\n",
    "tokenized_text = lyricsdf['lyr_token'].tolist()"
   ]
  },
  {
   "cell_type": "code",
   "execution_count": 491,
   "metadata": {},
   "outputs": [
    {
     "data": {
      "text/plain": [
       "Text(0.5, 1.0, 'Top 20 word in Eminem rap lyrics')"
      ]
     },
     "execution_count": 491,
     "metadata": {},
     "output_type": "execute_result"
    },
    {
     "data": {
      "image/png": "[encoded data removed]",
      "text/plain": [
       "<Figure size 720x288 with 1 Axes>"
      ]
     },
     "metadata": {
      "needs_background": "light"
     },
     "output_type": "display_data"
    }
   ],
   "source": [
    "flattened_list = []\n",
    "for x in tokenized_text:\n",
    "    for y in x:\n",
    "        flattened_list.append(y)\n",
    "word_count = Counter(flattened_list).most_common(20)\n",
    "word_count_df = pd.DataFrame(word_count, columns = ['word', 'count'])\n",
    "\n",
    "#creating a plot, depicting words distribution\n",
    "fig, (ax) = plt.subplots(figsize = (10, 4))\n",
    "sns.barplot(x = word_count_df['word'], y = word_count_df['count'], ax = ax)\n",
    "ax.set_ylabel('count', fontsize = 10)\n",
    "ax.set_xlabel('word',fontsize = 10)\n",
    "ax.tick_params(labelsize=10)\n",
    "ax.set_title('Top 20 word in Eminem rap lyrics', fontsize = 15)"
   ]
  },
  {
   "cell_type": "markdown",
   "metadata": {},
   "source": [
    "#### As we know, the bigger is testset, the better, therefore let's set the size of 60%"
   ]
  },
  {
   "cell_type": "code",
   "execution_count": 454,
   "metadata": {},
   "outputs": [],
   "source": [
    "train, test = train_test_split(tokenized_text, test_size=0.6, random_state=11)"
   ]
  },
  {
   "cell_type": "markdown",
   "metadata": {},
   "source": [
    "#### At first I used only 400 Eminem's songs, and got pretty high perplexity. Then it was decided to expand train set in order to get better perplexity, so below I append to train set the lyrics of 50 Cent's, since the Internet told me they are quite similar to Eminem's. I have searched for and downloaded .json with his lyrics before, so now let's upload some more rap"
   ]
  },
  {
   "cell_type": "code",
   "execution_count": 261,
   "metadata": {},
   "outputs": [
    {
     "name": "stdout",
     "output_type": "stream",
     "text": [
      "dict_keys(['alternate_names', 'api_path', 'description', 'facebook_name', 'followers_count', 'header_image_url', 'id', 'image_url', 'instagram_name', 'is_meme_verified', 'is_verified', 'name', 'translation_artist', 'twitter_name', 'url', 'current_user_metadata', 'iq', 'description_annotation', 'user', 'songs'])\n"
     ]
    }
   ],
   "source": [
    "#same procedure as with Eminem's lyrics, we open the file and look at the keys\n",
    "cent_lyrics = 'Lyrics_50Cent.json'\n",
    "with open(cent_lyrics) as fifty_cent_lyrics:\n",
    "    centmessyvocab = json.load(fifty_cent_lyrics)\n",
    "dict_keys = centmessyvocab.keys()\n",
    "print(dict_keys)"
   ]
  },
  {
   "cell_type": "code",
   "execution_count": 262,
   "metadata": {},
   "outputs": [],
   "source": [
    "#extracting songs' lyrics and form a vocabulary\n",
    "vocab = centmessyvocab.get('songs')\n",
    "cent_lyrics_vocab = []\n",
    "for i in range(0,len(vocab)):\n",
    "    index = vocab[i]\n",
    "    song = index.get('lyrics')\n",
    "    cent_lyrics_vocab.append(song)\n",
    "centlyricsdf = pd.DataFrame(cent_lyrics_vocab, columns=['Song lyrics'])\n",
    "centlyricsdf = centlyricsdf.dropna()\n",
    "#clear the punctuation\n",
    "for i in range(0,len(centlyricsdf)):\n",
    "    stringlyric = centlyricsdf.iloc[i,0]\n",
    "    for x in ['intro', 'verse', 'chorus','!','\"', \"'\", '’', '#','$','%','&','(',')','*','+',',','-','/',':',';','<','=','>','?','@','[','\\\\',']',\n",
    " '^','_','`','{','|','}','~', '1', '...']:   \n",
    "        stringlyric = stringlyric.replace(x, '')\n",
    "        centlyricsdf.iloc[i,0] = stringlyric\n",
    "#lowercasing and tokenization \n",
    "centlyricsdf['Song lyrics'] = centlyricsdf['Song lyrics'].str.lower()\n",
    "centlyricsdf['lyr_token'] = centlyricsdf.apply(lambda row: nltk.word_tokenize(row['Song lyrics']), axis=1)\n",
    "#forming a list with tokenized lyrics of 50Cent which will be appended to train set\n",
    "append_to_train_50cent = centlyricsdf['lyr_token'].tolist()"
   ]
  },
  {
   "cell_type": "code",
   "execution_count": 455,
   "metadata": {},
   "outputs": [],
   "source": [
    "#expanding the train set\n",
    "for x in append_to_train_50cent:\n",
    "    train.append(x)"
   ]
  },
  {
   "cell_type": "markdown",
   "metadata": {},
   "source": [
    "### 1-grams"
   ]
  },
  {
   "cell_type": "code",
   "execution_count": 411,
   "metadata": {},
   "outputs": [],
   "source": [
    "n=1"
   ]
  },
  {
   "cell_type": "markdown",
   "metadata": {},
   "source": [
    "#### Kneser-Ney Interpolated for unigrams, default value of discount = 0.1"
   ]
  },
  {
   "cell_type": "code",
   "execution_count": 459,
   "metadata": {},
   "outputs": [],
   "source": [
    "train_data_1_KN, padded_sents_1_KN = padded_everygram_pipeline(n, train)\n",
    "test_grams = str(test)\n",
    "test_unigrams_KN = ngrams(test_grams.split(), n)\n",
    "unigrams_KN_test = []\n",
    "for grams in test_unigrams_KN:\n",
    "    unigrams_KN_test.append(grams)\n",
    "unigrams_KN_test = tuple(unigrams_KN_test)"
   ]
  },
  {
   "cell_type": "code",
   "execution_count": 460,
   "metadata": {},
   "outputs": [],
   "source": [
    "model_1_KN = KneserNeyInterpolated(n, discount=0.1)"
   ]
  },
  {
   "cell_type": "code",
   "execution_count": 461,
   "metadata": {},
   "outputs": [],
   "source": [
    "model_1_KN.fit(train_data_1_KN, padded_sents_1_KN)"
   ]
  },
  {
   "cell_type": "code",
   "execution_count": 462,
   "metadata": {},
   "outputs": [
    {
     "data": {
      "text/plain": [
       "9394.999999950445"
      ]
     },
     "execution_count": 462,
     "metadata": {},
     "output_type": "execute_result"
    }
   ],
   "source": [
    "model_1_KN.perplexity(unigrams_KN_test)"
   ]
  },
  {
   "cell_type": "markdown",
   "metadata": {},
   "source": [
    "#### Kneser-Ney Interpolated for unigrams, set value of discount = 0.9"
   ]
  },
  {
   "cell_type": "code",
   "execution_count": 463,
   "metadata": {},
   "outputs": [],
   "source": [
    "train_data_9_KN, padded_sents_9_KN = padded_everygram_pipeline(n, train)\n",
    "test_grams = str(test)\n",
    "test_unigrams_KN9 = ngrams(test_grams.split(), n)\n",
    "unigrams_KN9_test = []\n",
    "for grams in test_unigrams_KN9:\n",
    "    unigrams_KN9_test.append(grams)\n",
    "unigrams_KN9_test = tuple(unigrams_KN9_test)"
   ]
  },
  {
   "cell_type": "code",
   "execution_count": 464,
   "metadata": {},
   "outputs": [],
   "source": [
    "model_1_KN_9 = KneserNeyInterpolated(n, discount=0.9)"
   ]
  },
  {
   "cell_type": "code",
   "execution_count": 465,
   "metadata": {},
   "outputs": [],
   "source": [
    "model_1_KN_9.fit(train_data_9_KN, padded_sents_9_KN)"
   ]
  },
  {
   "cell_type": "code",
   "execution_count": 467,
   "metadata": {},
   "outputs": [
    {
     "data": {
      "text/plain": [
       "9394.999999950445"
      ]
     },
     "execution_count": 467,
     "metadata": {},
     "output_type": "execute_result"
    }
   ],
   "source": [
    "Unigram_KN_PP = model_1_KN_9.perplexity(unigrams_KN9_test)\n",
    "Unigram_KN_PP"
   ]
  },
  {
   "cell_type": "code",
   "execution_count": 468,
   "metadata": {
    "scrolled": true
   },
   "outputs": [
    {
     "name": "stdout",
     "output_type": "stream",
     "text": [
      "['bullshit', 'steps', 'sclass', 'dialing', 'klepto', 'hyper', 'pegged', 'shopper', 'birth', 'age']\n"
     ]
    }
   ],
   "source": [
    "print(model_1_KN_9.generate(10, random_seed=1))"
   ]
  },
  {
   "cell_type": "code",
   "execution_count": 403,
   "metadata": {},
   "outputs": [],
   "source": [
    "#As we can see above, simple generation shows separate words, therefore, new function is included below\n",
    "#which is fully copypasted from https://www.kaggle.com/alvations/n-gram-language-model-with-nltk\n",
    "from nltk.tokenize.treebank import TreebankWordDetokenizer\n",
    "\n",
    "detokenize = TreebankWordDetokenizer().detokenize\n",
    "\n",
    "def generate_sent(model, num_words, random_seed=42):\n",
    "    content = []\n",
    "    for token in model.generate(num_words, random_seed=random_seed):\n",
    "        if token == '<s>':\n",
    "            continue\n",
    "        if token == '</s>':\n",
    "            break\n",
    "        content.append(token)\n",
    "    return detokenize(content)"
   ]
  },
  {
   "cell_type": "code",
   "execution_count": 281,
   "metadata": {},
   "outputs": [
    {
     "name": "stdout",
     "output_type": "stream",
     "text": [
      "station sat heezy dimes learned ha.. shifty entertain jesus monopolize\n",
      "bullshit steps sclass dialing klepto hyper pegged shopper birth age\n",
      "wait vicious attacks bendin sprigs rikers please even newport nicest\n"
     ]
    }
   ],
   "source": [
    "for i in range(3):\n",
    "    print(generate_sent(model_1_KN_9, 10, random_seed=i))"
   ]
  },
  {
   "cell_type": "markdown",
   "metadata": {},
   "source": [
    "#### Laplace model for unigrams"
   ]
  },
  {
   "cell_type": "code",
   "execution_count": 283,
   "metadata": {},
   "outputs": [],
   "source": [
    "train_data_LA, padded_sents_LA = padded_everygram_pipeline(n, train)\n",
    "test_grams = str(test)\n",
    "test_unigrams_LA = ngrams(test_grams.split(), n)\n",
    "unigrams_LA_test = []\n",
    "for grams in test_unigrams_LA:\n",
    "    unigrams_LA_test.append(grams)\n",
    "unigrams_LA_test = tuple(unigrams_LA_test)"
   ]
  },
  {
   "cell_type": "code",
   "execution_count": 284,
   "metadata": {},
   "outputs": [],
   "source": [
    "model_laplace = Laplace(n)"
   ]
  },
  {
   "cell_type": "code",
   "execution_count": 285,
   "metadata": {},
   "outputs": [],
   "source": [
    "model_laplace.fit(train_data_LA, padded_sents_LA)"
   ]
  },
  {
   "cell_type": "code",
   "execution_count": 286,
   "metadata": {},
   "outputs": [
    {
     "data": {
      "text/plain": [
       "154122.00000158613"
      ]
     },
     "execution_count": 286,
     "metadata": {},
     "output_type": "execute_result"
    }
   ],
   "source": [
    "#It makes me wanna cry too\n",
    "model_laplace.perplexity(unigrams_LA_test)"
   ]
  },
  {
   "cell_type": "code",
   "execution_count": 384,
   "metadata": {},
   "outputs": [],
   "source": [
    "Unigram_laplace_PP = model_laplace.perplexity(unigrams_LA_test)"
   ]
  },
  {
   "cell_type": "code",
   "execution_count": 288,
   "metadata": {},
   "outputs": [
    {
     "name": "stdout",
     "output_type": "stream",
     "text": [
      "tip style in from man im thats got lay nigga\n",
      "buttered to ta forth livin its pippen the be a\n",
      "year writin and back this so quick gun o of\n"
     ]
    }
   ],
   "source": [
    "#Let's look at examples of text generation\n",
    "for i in range(3):\n",
    "    print(generate_sent(model_laplace, 10, random_seed=i))"
   ]
  },
  {
   "cell_type": "markdown",
   "metadata": {},
   "source": [
    "#### MLE for unigrams"
   ]
  },
  {
   "cell_type": "code",
   "execution_count": 289,
   "metadata": {},
   "outputs": [],
   "source": [
    "train_data_MLE, padded_sents_MLE = padded_everygram_pipeline(n, train)\n",
    "test_grams = str(test)\n",
    "test_unigrams_MLE = ngrams(test_grams.split(), n)\n",
    "unigrams_MLE_test = []\n",
    "for grams in test_unigrams_MLE:\n",
    "    unigrams_MLE_test.append(grams)\n",
    "unigrams_MLE_test = tuple(unigrams_MLE_test)"
   ]
  },
  {
   "cell_type": "code",
   "execution_count": 290,
   "metadata": {},
   "outputs": [],
   "source": [
    "model_MLE = MLE(n)"
   ]
  },
  {
   "cell_type": "code",
   "execution_count": 291,
   "metadata": {},
   "outputs": [],
   "source": [
    "model_MLE.fit(train_data_MLE, padded_sents_MLE)"
   ]
  },
  {
   "cell_type": "code",
   "execution_count": 292,
   "metadata": {},
   "outputs": [
    {
     "data": {
      "text/plain": [
       "inf"
      ]
     },
     "execution_count": 292,
     "metadata": {},
     "output_type": "execute_result"
    }
   ],
   "source": [
    "#Unfortunately, it is infinite because of unknowkn n-grams in test set\n",
    "model_MLE.perplexity(unigrams_MLE_test)"
   ]
  },
  {
   "cell_type": "code",
   "execution_count": 385,
   "metadata": {},
   "outputs": [],
   "source": [
    "Unigram_mle_PP = model_MLE.perplexity(unigrams_MLE_test)"
   ]
  },
  {
   "cell_type": "code",
   "execution_count": 293,
   "metadata": {},
   "outputs": [
    {
     "name": "stdout",
     "output_type": "stream",
     "text": [
      "to take in fuckin man im the gunshot legal nigga\n",
      "buzzed to testarossa fuck long its plain the be a\n",
      "york ya and baby through son rap happy of of\n"
     ]
    }
   ],
   "source": [
    "#Let's look at examples of text generation\n",
    "for i in range(3):\n",
    "    print(generate_sent(model_MLE, 10, random_seed=i))"
   ]
  },
  {
   "cell_type": "markdown",
   "metadata": {},
   "source": [
    "### 2-grams"
   ]
  },
  {
   "cell_type": "code",
   "execution_count": 338,
   "metadata": {},
   "outputs": [],
   "source": [
    "n=2"
   ]
  },
  {
   "cell_type": "markdown",
   "metadata": {},
   "source": [
    "#### Kneser-Ney Interpolated for bigrams, default value of discount = 0.1"
   ]
  },
  {
   "cell_type": "code",
   "execution_count": 347,
   "metadata": {},
   "outputs": [],
   "source": [
    "train_data_1_KN_2, padded_sents_1_KN_2 = padded_everygram_pipeline(n, train)\n",
    "test_grams = str(test)\n",
    "test_bigrams_KN = ngrams(test_grams.split(), n)\n",
    "bigrams_KN_test = []\n",
    "for grams in test_bigrams_KN:\n",
    "    bigrams_KN_test.append(grams)\n",
    "bigrams_KN_test = tuple(bigrams_KN_test)"
   ]
  },
  {
   "cell_type": "code",
   "execution_count": 348,
   "metadata": {},
   "outputs": [],
   "source": [
    "model_2_KN = KneserNeyInterpolated(n, discount=0.1)"
   ]
  },
  {
   "cell_type": "code",
   "execution_count": 349,
   "metadata": {},
   "outputs": [],
   "source": [
    "model_2_KN.fit(train_data_1_KN_2, padded_sents_1_KN_2)"
   ]
  },
  {
   "cell_type": "code",
   "execution_count": 350,
   "metadata": {},
   "outputs": [
    {
     "data": {
      "text/plain": [
       "9397.000000039661"
      ]
     },
     "execution_count": 350,
     "metadata": {},
     "output_type": "execute_result"
    }
   ],
   "source": [
    "model_2_KN.perplexity(bigrams_KN_test)"
   ]
  },
  {
   "cell_type": "markdown",
   "metadata": {},
   "source": [
    "#### Kneser-Ney Interpolated for bigrams, set value of discount = 0.9"
   ]
  },
  {
   "cell_type": "code",
   "execution_count": 351,
   "metadata": {},
   "outputs": [],
   "source": [
    "train_data_9_KN_2, padded_sents_9_KN_2 = padded_everygram_pipeline(n, train)\n",
    "test_grams = str(test)\n",
    "test_bigrams_KN9 = ngrams(test_grams.split(), n)\n",
    "bigrams_KN9_test = []\n",
    "for grams in test_bigrams_KN9:\n",
    "    bigrams_KN9_test.append(grams)\n",
    "bigrams_KN9_test = tuple(bigrams_KN9_test)"
   ]
  },
  {
   "cell_type": "code",
   "execution_count": 352,
   "metadata": {},
   "outputs": [],
   "source": [
    "model_2_KN_9 = KneserNeyInterpolated(n, discount=0.9)"
   ]
  },
  {
   "cell_type": "code",
   "execution_count": 353,
   "metadata": {},
   "outputs": [],
   "source": [
    "model_2_KN_9.fit(train_data_9_KN_2, padded_sents_9_KN_2)"
   ]
  },
  {
   "cell_type": "code",
   "execution_count": 354,
   "metadata": {},
   "outputs": [
    {
     "data": {
      "text/plain": [
       "9397.000000039661"
      ]
     },
     "execution_count": 354,
     "metadata": {},
     "output_type": "execute_result"
    }
   ],
   "source": [
    "model_2_KN_9.perplexity(bigrams_KN9_test)"
   ]
  },
  {
   "cell_type": "code",
   "execution_count": 386,
   "metadata": {},
   "outputs": [],
   "source": [
    "Bigram_KN_PP = model_2_KN_9.perplexity(bigrams_KN9_test)"
   ]
  },
  {
   "cell_type": "code",
   "execution_count": 358,
   "metadata": {},
   "outputs": [
    {
     "name": "stdout",
     "output_type": "stream",
     "text": [
      "officer rickyyyyyyyyyyyyyyyyyyyyyyyyyyyyy verse man ran up against me you my\n",
      "shutting you in love 50 cent kardinal offishall eeny meany\n",
      "fantasies they ready everybody knows everyone knows like a lie\n",
      "crowned you call rider im doin what i like its\n"
     ]
    }
   ],
   "source": [
    "#Let's look at examples of text generation\n",
    "for i in [5,6,7,8]:\n",
    "    print(generate_sent(model_2_KN_9, 10, random_seed=i))"
   ]
  },
  {
   "cell_type": "markdown",
   "metadata": {},
   "source": [
    "#### Laplace model for bigrams"
   ]
  },
  {
   "cell_type": "code",
   "execution_count": 359,
   "metadata": {},
   "outputs": [],
   "source": [
    "train_data_LA_2, padded_sents_LA_2 = padded_everygram_pipeline(n, train)\n",
    "test_grams = str(test)\n",
    "test_bigrams_LA = ngrams(test_grams.split(), n)\n",
    "bigrams_LA_test = []\n",
    "for grams in test_bigrams_LA:\n",
    "    bigrams_LA_test.append(grams)\n",
    "bigrams_LA_test = tuple(bigrams_LA_test)"
   ]
  },
  {
   "cell_type": "code",
   "execution_count": 360,
   "metadata": {},
   "outputs": [],
   "source": [
    "model_laplace_2 = Laplace(n)"
   ]
  },
  {
   "cell_type": "code",
   "execution_count": 361,
   "metadata": {},
   "outputs": [],
   "source": [
    "model_laplace_2.fit(train_data_LA_2, padded_sents_LA_2)"
   ]
  },
  {
   "cell_type": "code",
   "execution_count": 363,
   "metadata": {},
   "outputs": [
    {
     "data": {
      "text/plain": [
       "9397.000000039661"
      ]
     },
     "execution_count": 363,
     "metadata": {},
     "output_type": "execute_result"
    }
   ],
   "source": [
    "#Really huge\n",
    "model_laplace_2.perplexity(bigrams_LA_test)"
   ]
  },
  {
   "cell_type": "code",
   "execution_count": 387,
   "metadata": {},
   "outputs": [],
   "source": [
    "Bigram_laplace_PP = model_laplace_2.perplexity(bigrams_LA_test)"
   ]
  },
  {
   "cell_type": "code",
   "execution_count": 364,
   "metadata": {},
   "outputs": [
    {
     "name": "stdout",
     "output_type": "stream",
     "text": [
      "on the showroom floor now yeah\n",
      "the spot on it . pay her she got that\n",
      "head boy tony and many many calibers here and im\n",
      "em where canibus wannafuck your bowels when it\n"
     ]
    }
   ],
   "source": [
    "#Let's look at examples of text generation\n",
    "for i in [5,6,7,8]:\n",
    "    print(generate_sent(model_laplace_2, 10, random_seed=i))"
   ]
  },
  {
   "cell_type": "markdown",
   "metadata": {},
   "source": [
    "#### MLE for bigrams"
   ]
  },
  {
   "cell_type": "code",
   "execution_count": 365,
   "metadata": {},
   "outputs": [],
   "source": [
    "train_data_MLE_2, padded_sents_MLE_2 = padded_everygram_pipeline(n, train)\n",
    "test_grams = str(test)\n",
    "test_bigrams_MLE = ngrams(test_grams.split(), n)\n",
    "bigrams_MLE_test = []\n",
    "for grams in test_bigrams_MLE:\n",
    "    bigrams_MLE_test.append(grams)\n",
    "bigrams_MLE_test = tuple(bigrams_MLE_test)"
   ]
  },
  {
   "cell_type": "code",
   "execution_count": 366,
   "metadata": {},
   "outputs": [],
   "source": [
    "model_MLE_2 = MLE(n)"
   ]
  },
  {
   "cell_type": "code",
   "execution_count": 367,
   "metadata": {},
   "outputs": [],
   "source": [
    "model_MLE_2.fit(train_data_MLE_2, padded_sents_MLE_2)"
   ]
  },
  {
   "cell_type": "code",
   "execution_count": 369,
   "metadata": {},
   "outputs": [
    {
     "data": {
      "text/plain": [
       "inf"
      ]
     },
     "execution_count": 369,
     "metadata": {},
     "output_type": "execute_result"
    }
   ],
   "source": [
    "model_MLE_2.perplexity(bigrams_MLE_test)"
   ]
  },
  {
   "cell_type": "code",
   "execution_count": 388,
   "metadata": {},
   "outputs": [],
   "source": [
    "Bigram_mle_PP=model_MLE_2.perplexity(bigrams_MLE_test)"
   ]
  },
  {
   "cell_type": "code",
   "execution_count": 370,
   "metadata": {},
   "outputs": [
    {
     "name": "stdout",
     "output_type": "stream",
     "text": [
      "kid in court throwing money man what goes into my\n",
      "nasty girl louie checkers these rap shit clear off life\n",
      "its most rawest form of pot ill kill whats up\n"
     ]
    }
   ],
   "source": [
    "#Let's look at examples of text generation via MLE for bigrams\n",
    "for i in [9,10,11]:\n",
    "    print(generate_sent(model_MLE_2, 10, random_seed=i))"
   ]
  },
  {
   "cell_type": "markdown",
   "metadata": {},
   "source": [
    "### 3-grams"
   ]
  },
  {
   "cell_type": "code",
   "execution_count": 371,
   "metadata": {},
   "outputs": [],
   "source": [
    "n=3"
   ]
  },
  {
   "cell_type": "markdown",
   "metadata": {},
   "source": [
    "#### Kneser-Ney Interpolated for trigrams, default value of discount = 0.1"
   ]
  },
  {
   "cell_type": "code",
   "execution_count": 372,
   "metadata": {},
   "outputs": [],
   "source": [
    "train_data_1_KN_3, padded_sents_1_KN_3 = padded_everygram_pipeline(n, train)\n",
    "test_grams = str(test)\n",
    "test_trigrams_KN = ngrams(test_grams.split(), n)\n",
    "trigrams_KN_test = []\n",
    "for grams in test_trigrams_KN:\n",
    "    trigrams_KN_test.append(grams)\n",
    "trigrams_KN_test = tuple(trigrams_KN_test)"
   ]
  },
  {
   "cell_type": "code",
   "execution_count": 373,
   "metadata": {},
   "outputs": [],
   "source": [
    "model_3_KN = KneserNeyInterpolated(n, discount=0.1)"
   ]
  },
  {
   "cell_type": "code",
   "execution_count": 374,
   "metadata": {},
   "outputs": [],
   "source": [
    "model_3_KN.fit(train_data_1_KN_3, padded_sents_1_KN_3)"
   ]
  },
  {
   "cell_type": "code",
   "execution_count": 375,
   "metadata": {},
   "outputs": [
    {
     "data": {
      "text/plain": [
       "9397.000000039661"
      ]
     },
     "execution_count": 375,
     "metadata": {},
     "output_type": "execute_result"
    }
   ],
   "source": [
    "model_3_KN.perplexity(trigrams_KN_test)"
   ]
  },
  {
   "cell_type": "code",
   "execution_count": 389,
   "metadata": {},
   "outputs": [],
   "source": [
    "Trigram_KN_PP = model_3_KN.perplexity(trigrams_KN_test)"
   ]
  },
  {
   "cell_type": "code",
   "execution_count": 376,
   "metadata": {},
   "outputs": [
    {
     "name": "stdout",
     "output_type": "stream",
     "text": [
      "station witness 2 i got moneymoney i got my name\n",
      "bulls out i dont know what you sayin boy you\n",
      "wait wait for doctor to get shit confused i wasnt\n"
     ]
    }
   ],
   "source": [
    "#Let's look at examples of text generation\n",
    "for i in range(3):\n",
    "    print(generate_sent(model_3_KN, 10, random_seed=i))"
   ]
  },
  {
   "cell_type": "markdown",
   "metadata": {},
   "source": [
    "As our previous experience shows us, setting different discounts have no effect, so we will look only at default value of d"
   ]
  },
  {
   "cell_type": "markdown",
   "metadata": {},
   "source": [
    "#### Laplace model for trigrams"
   ]
  },
  {
   "cell_type": "code",
   "execution_count": 377,
   "metadata": {},
   "outputs": [],
   "source": [
    "train_data_LA_3, padded_sents_LA_3 = padded_everygram_pipeline(n, train)\n",
    "test_grams = str(test)\n",
    "test_trigrams_LA = ngrams(test_grams.split(), n)\n",
    "trigrams_LA_test = []\n",
    "for grams in test_trigrams_LA:\n",
    "    trigrams_LA_test.append(grams)\n",
    "trigrams_LA_test = tuple(trigrams_LA_test)"
   ]
  },
  {
   "cell_type": "code",
   "execution_count": 378,
   "metadata": {},
   "outputs": [],
   "source": [
    "model_laplace_3 = Laplace(n)"
   ]
  },
  {
   "cell_type": "code",
   "execution_count": 379,
   "metadata": {},
   "outputs": [],
   "source": [
    "model_laplace_3.fit(train_data_LA_3, padded_sents_LA_3)"
   ]
  },
  {
   "cell_type": "code",
   "execution_count": 380,
   "metadata": {},
   "outputs": [
    {
     "data": {
      "text/plain": [
       "9397.000000039661"
      ]
     },
     "execution_count": 380,
     "metadata": {},
     "output_type": "execute_result"
    }
   ],
   "source": [
    "model_laplace_3.perplexity(trigrams_LA_test)"
   ]
  },
  {
   "cell_type": "code",
   "execution_count": 382,
   "metadata": {},
   "outputs": [],
   "source": [
    "Trigram_laplace_PP = model_laplace_3.perplexity(trigrams_LA_test)"
   ]
  },
  {
   "cell_type": "code",
   "execution_count": 381,
   "metadata": {},
   "outputs": [
    {
     "name": "stdout",
     "output_type": "stream",
     "text": [
      "on the sidewalk red with the animal hook 50 cent\n",
      "the spot right now . listen i went from sugar\n",
      "he came home actin like i aint hurting im aight\n",
      "eighties and a nigga bout when you cross me im\n"
     ]
    }
   ],
   "source": [
    "#Let's look at examples of text generation\n",
    "for i in [5,6,7,8]:\n",
    "    print(generate_sent(model_laplace_3, 10, random_seed=i))"
   ]
  },
  {
   "cell_type": "markdown",
   "metadata": {},
   "source": [
    "#### MLE for trigrams"
   ]
  },
  {
   "cell_type": "code",
   "execution_count": 390,
   "metadata": {},
   "outputs": [],
   "source": [
    "train_data_MLE_3, padded_sents_MLE_3 = padded_everygram_pipeline(n, train)\n",
    "test_grams = str(test)\n",
    "test_trigrams_MLE = ngrams(test_grams.split(), n)\n",
    "trigrams_MLE_test = []\n",
    "for grams in test_trigrams_MLE:\n",
    "    trigrams_MLE_test.append(grams)\n",
    "trigrams_MLE_test = tuple(trigrams_MLE_test)"
   ]
  },
  {
   "cell_type": "code",
   "execution_count": 391,
   "metadata": {},
   "outputs": [],
   "source": [
    "model_MLE_3 = MLE(n)"
   ]
  },
  {
   "cell_type": "code",
   "execution_count": 392,
   "metadata": {},
   "outputs": [],
   "source": [
    "model_MLE_3.fit(train_data_MLE_3, padded_sents_MLE_3)"
   ]
  },
  {
   "cell_type": "code",
   "execution_count": 393,
   "metadata": {},
   "outputs": [
    {
     "data": {
      "text/plain": [
       "inf"
      ]
     },
     "execution_count": 393,
     "metadata": {},
     "output_type": "execute_result"
    }
   ],
   "source": [
    "model_MLE_3.perplexity(trigrams_MLE_test)"
   ]
  },
  {
   "cell_type": "code",
   "execution_count": 394,
   "metadata": {},
   "outputs": [],
   "source": [
    "Trigram_mle_PP = model_MLE_3.perplexity(trigrams_MLE_test)"
   ]
  },
  {
   "cell_type": "code",
   "execution_count": 395,
   "metadata": {},
   "outputs": [
    {
     "name": "stdout",
     "output_type": "stream",
     "text": [
      "keep it girl you a lot of gats testin macks\n",
      "na hear that chorus shorty you dont have nothing no\n",
      "its most purest most rawest form flow almost flawless most\n"
     ]
    }
   ],
   "source": [
    "#Let's look at examples of text generation via MLE for trigrams\n",
    "for i in [9,10,11]:\n",
    "    print(generate_sent(model_MLE_3, 10, random_seed=i))"
   ]
  },
  {
   "cell_type": "markdown",
   "metadata": {},
   "source": [
    "#### Creating a table with results for each of n-grams"
   ]
  },
  {
   "cell_type": "code",
   "execution_count": 559,
   "metadata": {},
   "outputs": [
    {
     "data": {
      "text/html": [
       "<style  type=\"text/css\" >\n",
       "    #T_f7746258_7b25_11ea_b2cb_7c7635219d8b  {\n",
       "          border: 4px solid #7a7;\n",
       "          font-family: verdana;\n",
       "          font-family: verdana;\n",
       "          font-size: 120%;\n",
       "    }</style><table id=\"T_f7746258_7b25_11ea_b2cb_7c7635219d8b\" ><thead>    <tr>        <th class=\"blank level0\" ></th>        <th class=\"col_heading level0 col0\" >N-grams</th>        <th class=\"col_heading level0 col1\" >Kneser-Ney PP</th>        <th class=\"col_heading level0 col2\" >Laplace PP</th>        <th class=\"col_heading level0 col3\" >MLE PP</th>    </tr></thead><tbody>\n",
       "                <tr>\n",
       "                        <th id=\"T_f7746258_7b25_11ea_b2cb_7c7635219d8blevel0_row0\" class=\"row_heading level0 row0\" >0</th>\n",
       "                        <td id=\"T_f7746258_7b25_11ea_b2cb_7c7635219d8brow0_col0\" class=\"data row0 col0\" >1-gram</td>\n",
       "                        <td id=\"T_f7746258_7b25_11ea_b2cb_7c7635219d8brow0_col1\" class=\"data row0 col1\" >9395.000000</td>\n",
       "                        <td id=\"T_f7746258_7b25_11ea_b2cb_7c7635219d8brow0_col2\" class=\"data row0 col2\" >154122.000002</td>\n",
       "                        <td id=\"T_f7746258_7b25_11ea_b2cb_7c7635219d8brow0_col3\" class=\"data row0 col3\" >inf</td>\n",
       "            </tr>\n",
       "            <tr>\n",
       "                        <th id=\"T_f7746258_7b25_11ea_b2cb_7c7635219d8blevel0_row1\" class=\"row_heading level0 row1\" >1</th>\n",
       "                        <td id=\"T_f7746258_7b25_11ea_b2cb_7c7635219d8brow1_col0\" class=\"data row1 col0\" >2-gram</td>\n",
       "                        <td id=\"T_f7746258_7b25_11ea_b2cb_7c7635219d8brow1_col1\" class=\"data row1 col1\" >9397.000000</td>\n",
       "                        <td id=\"T_f7746258_7b25_11ea_b2cb_7c7635219d8brow1_col2\" class=\"data row1 col2\" >9397.000000</td>\n",
       "                        <td id=\"T_f7746258_7b25_11ea_b2cb_7c7635219d8brow1_col3\" class=\"data row1 col3\" >inf</td>\n",
       "            </tr>\n",
       "            <tr>\n",
       "                        <th id=\"T_f7746258_7b25_11ea_b2cb_7c7635219d8blevel0_row2\" class=\"row_heading level0 row2\" >2</th>\n",
       "                        <td id=\"T_f7746258_7b25_11ea_b2cb_7c7635219d8brow2_col0\" class=\"data row2 col0\" >3-gram</td>\n",
       "                        <td id=\"T_f7746258_7b25_11ea_b2cb_7c7635219d8brow2_col1\" class=\"data row2 col1\" >9397.000000</td>\n",
       "                        <td id=\"T_f7746258_7b25_11ea_b2cb_7c7635219d8brow2_col2\" class=\"data row2 col2\" >9397.000000</td>\n",
       "                        <td id=\"T_f7746258_7b25_11ea_b2cb_7c7635219d8brow2_col3\" class=\"data row2 col3\" >inf</td>\n",
       "            </tr>\n",
       "    </tbody></table>"
      ],
      "text/plain": [
       "<pandas.io.formats.style.Styler at 0x20133e0c1c8>"
      ]
     },
     "execution_count": 559,
     "metadata": {},
     "output_type": "execute_result"
    }
   ],
   "source": [
    "compare = {'N-grams':['1-gram', '2-gram', '3-gram'],\n",
    "        'Kneser-Ney PP': [Unigram_KN_PP,Bigram_KN_PP,Trigram_KN_PP],\n",
    "        'Laplace PP': [Unigram_laplace_PP,Bigram_laplace_PP,Trigram_laplace_PP],\n",
    "        'MLE PP': [Unigram_mle_PP,Bigram_mle_PP,Trigram_mle_PP] }\n",
    "models = pd.DataFrame(compare, columns = ['N-grams', 'Kneser-Ney PP', 'Laplace PP', 'MLE PP'])\n",
    "models_perplexity = models.style.set_table_styles([{'selector':'','props':[('border','4px solid #7a7'), ('font-family', 'verdana'),('font-family', 'verdana'), ('font-size', '120%')]}])\n",
    "models_perplexity"
   ]
  },
  {
   "cell_type": "markdown",
   "metadata": {},
   "source": [
    "### <span style=\"color:green\">*Conclusion*</span>: perplexity, which indicates the quality of the model, is huge. Therefore, all used models are not that good (perhaps because of my mistakes). Tuning of discount in Kneser-Ney model did not make any changes in perplexity, which is strangely equal for different n-grams. Moreover, even after train set expansion, perplexity values did not become satisfactory. And, in general,  generated texts hardly resemble rap lyrics (unless the rapper is drunk), and look more like a set of random obscene words\n",
    "\n",
    "I understand that there must me a lot of mistakes, but the whole task was quite cool thing to do"
   ]
  },
  {
   "cell_type": "markdown",
   "metadata": {},
   "source": [
    "***"
   ]
  },
  {
   "cell_type": "markdown",
   "metadata": {},
   "source": [
    "### Below there is an attempt to use principle of Markov chains for lyrics generation"
   ]
  },
  {
   "cell_type": "code",
   "execution_count": 560,
   "metadata": {},
   "outputs": [],
   "source": [
    "tokenized_text = lyricsdf['lyr_token'].tolist()\n",
    "flattened_lyr = []\n",
    "for x in tokenized_text:\n",
    "    for y in x:\n",
    "        flattened_lyr.append(y)\n",
    "\n",
    "def make_bigrams(text):\n",
    "    for i in range(len(text)-1):\n",
    "        yield (text[i], text[i+1])\n",
    "        \n",
    "bigrams = make_bigrams(flattened_lyr)"
   ]
  },
  {
   "cell_type": "code",
   "execution_count": 561,
   "metadata": {},
   "outputs": [],
   "source": [
    "word_dict = {}\n",
    "\n",
    "for word_1, word_2 in bigrams:\n",
    "    if word_1 in word_dict.keys():\n",
    "        word_dict[word_1].append(word_2)\n",
    "    else:\n",
    "        word_dict[word_1] = [word_2]\n",
    "        \n",
    "first_word = np.random.choice(flattened_lyr)"
   ]
  },
  {
   "cell_type": "code",
   "execution_count": 569,
   "metadata": {},
   "outputs": [
    {
     "name": "stdout",
     "output_type": "stream",
     "text": [
      "2 met this fucking chick is to hurt you cave in\n",
      "the pot make us together everything is on riding\n",
      "on it trying to run deep as i had them some twins\n",
      "before they say that i need somethin to outrun me\n",
      "to toe from amityville hell stab in the panelin\n",
      "cussin no paper i know where must go to think of\n",
      "evil as i apologize if i have no help propel me\n",
      "only women skinning your mom your verdict while i\n",
      "get to dust and did you pissed me and if ten\n",
      "freaky girls man ya sweeter than an mc\n"
     ]
    }
   ],
   "source": [
    "while first_word.islower():\n",
    "    first_word = np.random.choice(flattened_lyr)\n",
    "\n",
    "chain = [first_word]\n",
    "n_words = 100\n",
    "\n",
    "for i in range(n_words):\n",
    "    chain.append(np.random.choice(word_dict[chain[-1]]))\n",
    "\n",
    "generated_text = ' '.join(chain)\n",
    "rap = textwrap.fill(generated_text, width=50)\n",
    " \n",
    "print(rap)"
   ]
  },
  {
   "cell_type": "markdown",
   "metadata": {},
   "source": [
    "#### Unfortunately, I have no clue how to evaluate the quality of text generation, provided by this method. As far as I can judge, lyrics are not that bad, since there are many pairs and triples of words commonly used together, and some lines even make sense."
   ]
  },
  {
   "cell_type": "markdown",
   "metadata": {},
   "source": [
    "***"
   ]
  },
  {
   "cell_type": "markdown",
   "metadata": {},
   "source": [
    "#### As it turned out, there occurs a fault when perplexity is counted, so either the other version of nltk should be installed, or it can be done as follows. I have updated my nltk version, but sometimes perplexity was still counted with mistakes, so I decided to include the source code below and use it when the error appears. \n",
    "(https://www.nltk.org/_modules/nltk/lm/api.html#LanguageModel) "
   ]
  },
  {
   "cell_type": "code",
   "execution_count": 343,
   "metadata": {},
   "outputs": [],
   "source": [
    "from nltk.lm.models import LanguageModel\n",
    "#copypaste from NLTK source documentation\n",
    "class InterpolatedLanguageModel(LanguageModel):\n",
    "    def __init__(self, smoothing_cls, order, **kwargs):\n",
    "        assert issubclass(smoothing_cls, Smoothing)\n",
    "        params = kwargs.pop(\"params\", {})\n",
    "        super().__init__(order, **kwargs)\n",
    "        self.estimator = smoothing_cls(self.vocab, self.counts, **params)\n",
    "\n",
    "\n",
    "    def unmasked_score(self, word, context=None):\n",
    "        if not context:\n",
    "                return self.estimator.unigram_score(word)\n",
    "        if not self.counts[context]:\n",
    "             return self.unmasked_score(word, context[1:])\n",
    "        alpha, gamma = self.estimator.alpha_gamma(word, context)\n",
    "        return alpha + gamma * self.unmasked_score(word, context[1:])"
   ]
  },
  {
   "cell_type": "code",
   "execution_count": 344,
   "metadata": {},
   "outputs": [],
   "source": [
    "def _count_non_zero_vals(dictionary):\n",
    "    return sum(1.0 for c in dictionary.values() if c > 0)"
   ]
  },
  {
   "cell_type": "code",
   "execution_count": 345,
   "metadata": {},
   "outputs": [],
   "source": [
    "#this is KneserNey from NLTK documentation but with some amendments from https://github.com/nltk/nltk/pull/2363/commits/ce74e449dc9526e19596b1c4a9c510bbb35812cc \n",
    "from nltk.lm.models import Smoothing\n",
    "class KneserNey(Smoothing):\n",
    "    def __init__(self, vocabulary, counter, discount=0.1, **kwargs):\n",
    "        super(KneserNey, self).__init__(vocabulary, counter, *kwargs)\n",
    "        super().__init__(vocabulary, counter, **kwargs)\n",
    "        self.discount = discount\n",
    "\n",
    "    def unigram_score(self, word):\n",
    "        return 1.0 / len(self.vocab)\n",
    "\n",
    "    def alpha_gamma(self, word, context):\n",
    "        prefix_counts = self.counts[context]\n",
    "        prefix_total_ngrams = prefix_counts.N()\n",
    "        alpha = max(prefix_counts[word] - self.discount, 0.0) / prefix_total_ngrams\n",
    "        gamma = self.discount * _count_non_zero_vals(prefix_counts) / prefix_total_ngrams\n",
    "        return alpha, gamma"
   ]
  },
  {
   "cell_type": "code",
   "execution_count": 346,
   "metadata": {},
   "outputs": [],
   "source": [
    "#copypaste from NLTK source documentation\n",
    "class KneserNeyInterpolated(InterpolatedLanguageModel):\n",
    "    def __init__(self, order, discount=0.1, **kwargs):\n",
    "        super().__init__(KneserNey, order, params={\"discount\": discount}, **kwargs)"
   ]
  },
  {
   "cell_type": "markdown",
   "metadata": {},
   "source": [
    "Heavily based on:\n",
    "    https://www.kaggle.com/alvations/n-gram-language-model-with-nltk and https://towardsdatascience.com/simulating-text-with-markov-chains-in-python-1a27e6d13fc6"
   ]
  },
  {
   "cell_type": "code",
   "execution_count": null,
   "metadata": {},
   "outputs": [],
   "source": []
  }
 ],
 "metadata": {
  "kernelspec": {
   "display_name": "Python 3",
   "language": "python",
   "name": "python3"
  },
  "language_info": {
   "codemirror_mode": {
    "name": "ipython",
    "version": 3
   },
   "file_extension": ".py",
   "mimetype": "text/x-python",
   "name": "python",
   "nbconvert_exporter": "python",
   "pygments_lexer": "ipython3",
   "version": "3.7.6"
  }
 },
 "nbformat": 4,
 "nbformat_minor": 4
}
